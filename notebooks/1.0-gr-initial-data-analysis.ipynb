{
 "cells": [
  {
   "attachments": {},
   "cell_type": "markdown",
   "metadata": {},
   "source": [
    "# 1. Import Libraries and Packages\n",
    "\n",
    "Define all libraries and packages to be used in the project. If you add to this list please update the anaconda env as necessary."
   ]
  },
  {
   "cell_type": "code",
   "execution_count": 1,
   "metadata": {},
   "outputs": [],
   "source": [
    "# Standard Libraries\n",
    "import os\n",
    "from pathlib import Path\n",
    "import numpy as np\n",
    "import pandas as pd"
   ]
  },
  {
   "cell_type": "code",
   "execution_count": 2,
   "metadata": {},
   "outputs": [],
   "source": [
    "# Define Gloabl Path Variables\n",
    "DATA_PATH = Path('../data/')"
   ]
  },
  {
   "cell_type": "code",
   "execution_count": 7,
   "metadata": {},
   "outputs": [
    {
     "name": "stdout",
     "output_type": "stream",
     "text": [
      "\n",
      "downloading kaggle data...\n",
      "Downloading store-sales-time-series-forecasting.zip to /Users/griffinreichert/Documents/code/ibex/kaggle-store-sales/notebooks\n",
      " 94%|███████████████████████████████████▌  | 20.0M/21.4M [00:00<00:00, 72.6MB/s]\n",
      "100%|██████████████████████████████████████| 21.4M/21.4M [00:00<00:00, 64.0MB/s]\n",
      "Archive:  store-sales-time-series-forecasting.zip\n",
      "  inflating: holidays_events.csv     \n",
      "  inflating: oil.csv                 \n",
      "  inflating: sample_submission.csv   \n",
      "  inflating: stores.csv              \n",
      "  inflating: test.csv                \n",
      "  inflating: train.csv               \n",
      "  inflating: transactions.csv        \n"
     ]
    }
   ],
   "source": [
    "\n",
    "if 'data' not in os.listdir('..') or 'raw' not in os.listdir('../data'):\n",
    "    print('\\ndownloading kaggle data...')\n",
    "    ! mkdir ../data\n",
    "    ! mkdir ../data/raw\n",
    "    ! mkdir ../data/processed\n",
    "    ! kaggle competitions download -c store-sales-time-series-forecasting\n",
    "    ! unzip store-sales-time-series-forecasting.zip\n",
    "    ! mv *.csv ../data/raw\n",
    "    ! rm store-sales-time-series-forecasting.zip\n",
    "    ! mkdir ../data/submissions\n",
    "    ! mv ../data/raw/*_submission* ../data/submissions/\n",
    "else:\n",
    "    print('kaggle data already downloaded in ../data')"
   ]
  },
  {
   "cell_type": "code",
   "execution_count": null,
   "metadata": {},
   "outputs": [],
   "source": []
  }
 ],
 "metadata": {
  "kernelspec": {
   "display_name": "ibex",
   "language": "python",
   "name": "python3"
  },
  "language_info": {
   "codemirror_mode": {
    "name": "ipython",
    "version": 3
   },
   "file_extension": ".py",
   "mimetype": "text/x-python",
   "name": "python",
   "nbconvert_exporter": "python",
   "pygments_lexer": "ipython3",
   "version": "3.10.0"
  },
  "orig_nbformat": 4
 },
 "nbformat": 4,
 "nbformat_minor": 2
}
