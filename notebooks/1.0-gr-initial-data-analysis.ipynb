{
 "cells": [
  {
   "attachments": {},
   "cell_type": "markdown",
   "metadata": {},
   "source": [
    "# 1. Import Libraries and Packages\n",
    "\n",
    "Define all libraries and packages to be used in the project. If you add to this list please update the anaconda env as necessary."
   ]
  },
  {
   "cell_type": "code",
   "execution_count": 1,
   "metadata": {},
   "outputs": [],
   "source": [
    "# Standard Libraries\n",
    "import os\n",
    "from pathlib import Path\n",
    "import numpy as np\n",
    "import pandas as pd\n",
    "\n",
    "# Data Visualisation\n",
    "import matplotlib.pyplot as plt\n",
    "\n",
    "\n",
    "# Config\n",
    "pd.set_option('display.max_columns', None)"
   ]
  },
  {
   "cell_type": "code",
   "execution_count": 2,
   "metadata": {},
   "outputs": [],
   "source": [
    "# Define Gloabl Path Variables\n",
    "DATA_PATH = Path('../data/')\n",
    "RAW_PATH = DATA_PATH / 'raw'\n",
    "TRAIN_PATH = RAW_PATH / 'train.csv'\n",
    "TEST_PATH = RAW_PATH / 'test.csv'"
   ]
  },
  {
   "cell_type": "code",
   "execution_count": 3,
   "metadata": {},
   "outputs": [
    {
     "name": "stdout",
     "output_type": "stream",
     "text": [
      "kaggle data already downloaded in ../data\n"
     ]
    }
   ],
   "source": [
    "\n",
    "if 'data' not in os.listdir('..') or 'raw' not in os.listdir('../data'):\n",
    "    print('\\ndownloading kaggle data...')\n",
    "    ! mkdir ../data\n",
    "    ! mkdir ../data/raw\n",
    "    ! mkdir ../data/processed\n",
    "    ! kaggle competitions download -c store-sales-time-series-forecasting\n",
    "    ! unzip store-sales-time-series-forecasting.zip\n",
    "    ! mv *.csv ../data/raw\n",
    "    ! rm store-sales-time-series-forecasting.zip\n",
    "    ! mkdir ../data/submissions\n",
    "    ! mv ../data/raw/*_submission* ../data/submissions/\n",
    "else:\n",
    "    print('kaggle data already downloaded in ../data')"
   ]
  },
  {
   "cell_type": "code",
   "execution_count": 8,
   "metadata": {},
   "outputs": [
    {
     "name": "stdout",
     "output_type": "stream",
     "text": [
      "train:  3,000,888 rows\n",
      "test:      28,512 rows\n",
      "trans:     83,488 rows\n"
     ]
    }
   ],
   "source": [
    "# read in data to dataframes\n",
    "train = pd.read_csv(TRAIN_PATH)\n",
    "test = pd.read_csv(TEST_PATH)\n",
    "transactions = pd.read_csv(RAW_PATH/'transactions.csv')\n",
    "\n",
    "# combined = [train, test]\n",
    "\n",
    "print(f'train: {train.shape[0]:10,d} rows')\n",
    "print(f'test:  {test.shape[0]:10,d} rows')\n",
    "print(f'trans: {transactions.shape[0]:10,d} rows')"
   ]
  },
  {
   "cell_type": "code",
   "execution_count": 9,
   "metadata": {},
   "outputs": [
    {
     "name": "stdout",
     "output_type": "stream",
     "text": [
      "<class 'pandas.core.frame.DataFrame'>\n",
      "RangeIndex: 3000888 entries, 0 to 3000887\n",
      "Data columns (total 6 columns):\n",
      " #   Column       Dtype  \n",
      "---  ------       -----  \n",
      " 0   id           int64  \n",
      " 1   date         object \n",
      " 2   store_nbr    int64  \n",
      " 3   family       object \n",
      " 4   sales        float64\n",
      " 5   onpromotion  int64  \n",
      "dtypes: float64(1), int64(3), object(2)\n",
      "memory usage: 137.4+ MB\n"
     ]
    }
   ],
   "source": [
    "train.info()"
   ]
  },
  {
   "cell_type": "code",
   "execution_count": 10,
   "metadata": {},
   "outputs": [
    {
     "data": {
      "text/plain": [
       "0             0.000\n",
       "1             0.000\n",
       "2             0.000\n",
       "3             0.000\n",
       "4             0.000\n",
       "             ...   \n",
       "3000883     438.133\n",
       "3000884     154.553\n",
       "3000885    2419.729\n",
       "3000886     121.000\n",
       "3000887      16.000\n",
       "Name: sales, Length: 3000888, dtype: float64"
      ]
     },
     "execution_count": 10,
     "metadata": {},
     "output_type": "execute_result"
    }
   ],
   "source": []
  },
  {
   "cell_type": "code",
   "execution_count": null,
   "metadata": {},
   "outputs": [],
   "source": []
  }
 ],
 "metadata": {
  "kernelspec": {
   "display_name": "ibex",
   "language": "python",
   "name": "python3"
  },
  "language_info": {
   "codemirror_mode": {
    "name": "ipython",
    "version": 3
   },
   "file_extension": ".py",
   "mimetype": "text/x-python",
   "name": "python",
   "nbconvert_exporter": "python",
   "pygments_lexer": "ipython3",
   "version": "3.10.0"
  },
  "orig_nbformat": 4
 },
 "nbformat": 4,
 "nbformat_minor": 2
}
