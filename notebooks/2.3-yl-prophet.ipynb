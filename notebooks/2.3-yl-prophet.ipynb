{
 "cells": [
  {
   "cell_type": "code",
   "execution_count": 1,
   "metadata": {},
   "outputs": [],
   "source": [
    "# BASE\n",
    "# ------------------------------------------------------\n",
    "import numpy as np\n",
    "import pandas as pd\n",
    "import os\n",
    "import gc\n",
    "import warnings\n",
    "from pathlib import Path\n",
    "#!pip install xgboost\n",
    "import sklearn\n",
    "from sklearn import linear_model\n",
    "from sklearn.linear_model  import LinearRegression\n",
    "from sklearn.ensemble import RandomForestRegressor\n",
    "from sklearn.datasets import make_regression\n",
    "#!pip install xgboost\n",
    "import xgboost as xgb\n",
    "from sklearn.preprocessing import MinMaxScaler\n",
    "from sklearn.model_selection import train_test_split\n",
    "from sklearn.metrics import mean_absolute_error, mean_squared_error, mean_squared_log_error, r2_score\n",
    "pd.set_option('display.max_colwidth', None)\n",
    "import statsmodels.api as sm\n",
    "\n",
    "# DATA VISUALIZATION\n",
    "# ------------------------------------------------------\n",
    "import matplotlib.pyplot as plt\n",
    "import seaborn as sns\n",
    "import plotly.express as px\n",
    "import plotly.graph_objects as go\n",
    "\n",
    "# CONFIGURATIONS\n",
    "# ------------------------------------------------------\n",
    "pd.set_option('display.max_columns', None)\n",
    "pd.options.display.float_format = '{:.2f}'.format\n",
    "warnings.filterwarnings('ignore')\n"
   ]
  },
  {
   "cell_type": "code",
   "execution_count": 1,
   "metadata": {},
   "outputs": [],
   "source": [
    "import pickle"
   ]
  },
  {
   "cell_type": "code",
   "execution_count": 2,
   "metadata": {},
   "outputs": [],
   "source": [
    "folder = 'C:/Users/ylumady/Downloads/store-sales-time-series-forecasting/'"
   ]
  },
  {
   "cell_type": "code",
   "execution_count": 3,
   "metadata": {},
   "outputs": [
    {
     "name": "stdout",
     "output_type": "stream",
     "text": [
      "Parent directory: c:\\Users\\ylumady\\Documents\\kaggle-store-sales\n"
     ]
    },
    {
     "data": {
      "text/plain": [
       "WindowsPath('c:/Users/ylumady/Documents/kaggle-store-sales')"
      ]
     },
     "execution_count": 3,
     "metadata": {},
     "output_type": "execute_result"
    }
   ],
   "source": [
    "# Define Gloabl Path Variables\n",
    "# ------------------------------------------------------\n",
    "current_directory = os.getcwd()\n",
    "parent_directory = os.path.abspath(os.path.join(current_directory, os.pardir))\n",
    "\n",
    "print(\"Parent directory:\", parent_directory)\n",
    "\n",
    "DATA_PATH = Path(parent_directory)\n",
    "RAW_PATH = DATA_PATH / 'raw'\n",
    "TRAIN_PATH = RAW_PATH / 'train.csv'\n",
    "TEST_PATH = RAW_PATH / 'test.csv'\n",
    "DATA_PATH\n"
   ]
  },
  {
   "cell_type": "code",
   "execution_count": 4,
   "metadata": {},
   "outputs": [
    {
     "name": "stdout",
     "output_type": "stream",
     "text": [
      "\n",
      "downloading kaggle data...\n"
     ]
    },
    {
     "name": "stderr",
     "output_type": "stream",
     "text": [
      "The syntax of the command is incorrect.\n",
      "The syntax of the command is incorrect.\n",
      "The syntax of the command is incorrect.\n",
      "'kaggle' is not recognized as an internal or external command,\n",
      "operable program or batch file.\n",
      "'unzip' is not recognized as an internal or external command,\n",
      "operable program or batch file.\n",
      "'mv' is not recognized as an internal or external command,\n",
      "operable program or batch file.\n",
      "'rm' is not recognized as an internal or external command,\n",
      "operable program or batch file.\n",
      "The syntax of the command is incorrect.\n",
      "'mv' is not recognized as an internal or external command,\n",
      "operable program or batch file.\n"
     ]
    }
   ],
   "source": [
    "# Downlaod data from kaggle\n",
    "# ------------------------------------------------------\n",
    "if 'data' not in os.listdir('..') or 'raw' not in os.listdir('../data'):\n",
    "    print('\\ndownloading kaggle data...')\n",
    "    ! mkdir ../data\n",
    "    ! mkdir ../data/raw\n",
    "    ! mkdir ../data/processed\n",
    "    ! kaggle competitions download -c store-sales-time-series-forecasting\n",
    "    ! unzip store-sales-time-series-forecasting.zip\n",
    "    ! mv *.csv ../data/raw\n",
    "    ! rm store-sales-time-series-forecasting.zip\n",
    "    ! mkdir ../data/submissions\n",
    "    ! mv ../data/raw/*_submission* ../data/submissions/\n",
    "else:\n",
    "    print('kaggle data already downloaded in ../data')"
   ]
  },
  {
   "cell_type": "code",
   "execution_count": 5,
   "metadata": {},
   "outputs": [
    {
     "data": {
      "text/html": [
       "<div>\n",
       "<style scoped>\n",
       "    .dataframe tbody tr th:only-of-type {\n",
       "        vertical-align: middle;\n",
       "    }\n",
       "\n",
       "    .dataframe tbody tr th {\n",
       "        vertical-align: top;\n",
       "    }\n",
       "\n",
       "    .dataframe thead th {\n",
       "        text-align: right;\n",
       "    }\n",
       "</style>\n",
       "<table border=\"1\" class=\"dataframe\">\n",
       "  <thead>\n",
       "    <tr style=\"text-align: right;\">\n",
       "      <th></th>\n",
       "      <th>id</th>\n",
       "      <th>date</th>\n",
       "      <th>store_nbr</th>\n",
       "      <th>family</th>\n",
       "      <th>sales</th>\n",
       "      <th>onpromotion</th>\n",
       "    </tr>\n",
       "  </thead>\n",
       "  <tbody>\n",
       "    <tr>\n",
       "      <th>0</th>\n",
       "      <td>0</td>\n",
       "      <td>2013-01-01</td>\n",
       "      <td>1</td>\n",
       "      <td>AUTOMOTIVE</td>\n",
       "      <td>0.00</td>\n",
       "      <td>0.00</td>\n",
       "    </tr>\n",
       "    <tr>\n",
       "      <th>1</th>\n",
       "      <td>1</td>\n",
       "      <td>2013-01-01</td>\n",
       "      <td>1</td>\n",
       "      <td>BABY CARE</td>\n",
       "      <td>0.00</td>\n",
       "      <td>0.00</td>\n",
       "    </tr>\n",
       "    <tr>\n",
       "      <th>2</th>\n",
       "      <td>2</td>\n",
       "      <td>2013-01-01</td>\n",
       "      <td>1</td>\n",
       "      <td>BEAUTY</td>\n",
       "      <td>0.00</td>\n",
       "      <td>0.00</td>\n",
       "    </tr>\n",
       "    <tr>\n",
       "      <th>3</th>\n",
       "      <td>3</td>\n",
       "      <td>2013-01-01</td>\n",
       "      <td>1</td>\n",
       "      <td>BEVERAGES</td>\n",
       "      <td>0.00</td>\n",
       "      <td>0.00</td>\n",
       "    </tr>\n",
       "    <tr>\n",
       "      <th>4</th>\n",
       "      <td>4</td>\n",
       "      <td>2013-01-01</td>\n",
       "      <td>1</td>\n",
       "      <td>BOOKS</td>\n",
       "      <td>0.00</td>\n",
       "      <td>0.00</td>\n",
       "    </tr>\n",
       "  </tbody>\n",
       "</table>\n",
       "</div>"
      ],
      "text/plain": [
       "   id       date  store_nbr      family  sales  onpromotion\n",
       "0   0 2013-01-01          1  AUTOMOTIVE   0.00         0.00\n",
       "1   1 2013-01-01          1   BABY CARE   0.00         0.00\n",
       "2   2 2013-01-01          1      BEAUTY   0.00         0.00\n",
       "3   3 2013-01-01          1   BEVERAGES   0.00         0.00\n",
       "4   4 2013-01-01          1       BOOKS   0.00         0.00"
      ]
     },
     "execution_count": 5,
     "metadata": {},
     "output_type": "execute_result"
    }
   ],
   "source": [
    "# Import data\n",
    "train = pd.read_csv(folder+\"train.csv\")\n",
    "test = pd.read_csv(folder+\"test.csv\")\n",
    "stores = pd.read_csv(folder+\"stores.csv\")\n",
    "#sub = pd.read_csv(\"../input/store-sales-time-series-forecasting/sample_submission.csv\")   \n",
    "transactions = pd.read_csv(folder+\"transactions.csv\").sort_values([\"store_nbr\", \"date\"])\n",
    "\n",
    "\n",
    "# Datetime\n",
    "train[\"date\"] = pd.to_datetime(train.date)\n",
    "test[\"date\"] = pd.to_datetime(test.date)\n",
    "transactions[\"date\"] = pd.to_datetime(transactions.date)\n",
    "\n",
    "# Data types\n",
    "train.onpromotion = train.onpromotion.astype(\"float16\")\n",
    "train.sales = train.sales.astype(\"float32\")\n",
    "stores.cluster = stores.cluster.astype(\"int8\")\n",
    "\n",
    "h=900\n",
    "\n",
    "train.head()"
   ]
  },
  {
   "cell_type": "code",
   "execution_count": 6,
   "metadata": {},
   "outputs": [
    {
     "data": {
      "text/plain": [
       "0"
      ]
     },
     "execution_count": 6,
     "metadata": {},
     "output_type": "execute_result"
    }
   ],
   "source": [
    "#Import holiday data\n",
    "holidays = pd.read_csv(folder+\"holidays_events.csv\")\n",
    "holidays[\"date\"] = pd.to_datetime(holidays.date)\n",
    "holidays\n",
    "\n",
    "\n",
    "# holidays[holidays.type == \"Holiday\"]\n",
    "# holidays[(holidays.type == \"Holiday\") & (holidays.transferred == True)]\n",
    "\n",
    "# Transferred Holidays\n",
    "tr1 = holidays[(holidays.type == \"Holiday\") & (holidays.transferred == True)].drop(\"transferred\", axis = 1).reset_index(drop = True)\n",
    "tr2 = holidays[(holidays.type == \"Transfer\")].drop(\"transferred\", axis = 1).reset_index(drop = True)\n",
    "tr = pd.concat([tr1,tr2], axis = 1)\n",
    "tr = tr.iloc[:, [5,1,2,3,4]]\n",
    "\n",
    "tr\n",
    "\n",
    "holidays = holidays[(holidays.transferred == False) & (holidays.type != \"Transfer\")].drop(\"transferred\", axis = 1)\n",
    "holidays = holidays.append(tr).reset_index(drop = True)\n",
    "\n",
    "\n",
    "# Additional Holidays\n",
    "holidays[\"description\"] = holidays[\"description\"].str.replace(\"-\", \"\").str.replace(\"+\", \"\").str.replace('\\d+', '')\n",
    "holidays[\"type\"] = np.where(holidays[\"type\"] == \"Additional\", \"Holiday\", holidays[\"type\"])\n",
    "\n",
    "# Bridge Holidays\n",
    "holidays[\"description\"] = holidays[\"description\"].str.replace(\"Puente \", \"\")\n",
    "holidays[\"type\"] = np.where(holidays[\"type\"] == \"Bridge\", \"Holiday\", holidays[\"type\"])\n",
    "\n",
    " \n",
    "# Work Day Holidays, that is meant to payback the Bridge.\n",
    "work_day = holidays[holidays.type == \"Work Day\"]  \n",
    "holidays = holidays[holidays.type != \"Work Day\"]  \n",
    "\n",
    "\n",
    "# Split\n",
    "\n",
    "# Events are national\n",
    "events = holidays[holidays.type == \"Event\"].drop([\"type\", \"locale\", \"locale_name\"], axis = 1).rename({\"description\":\"events\"}, axis = 1)\n",
    "\n",
    "holidays = holidays[holidays.type != \"Event\"].drop(\"type\", axis = 1)\n",
    "regional = holidays[holidays.locale == \"Regional\"].rename({\"locale_name\":\"state\", \"description\":\"holiday_regional\"}, axis = 1).drop(\"locale\", axis = 1).drop_duplicates()\n",
    "national = holidays[holidays.locale == \"National\"].rename({\"description\":\"holiday_national\"}, axis = 1).drop([\"locale\", \"locale_name\"], axis = 1).drop_duplicates()\n",
    "local = holidays[holidays.locale == \"Local\"].rename({\"description\":\"holiday_local\", \"locale_name\":\"city\"}, axis = 1).drop(\"locale\", axis = 1).drop_duplicates()\n",
    "\n",
    "test['test/train'] = 'test'\n",
    "train['test/train'] = 'train'\n",
    "\n",
    "\n",
    "d = pd.merge(train.append(test), stores)\n",
    "d[\"store_nbr\"] = d[\"store_nbr\"].astype(\"int8\")\n",
    "\n",
    "\n",
    "# National Holidays & Events\n",
    "#d = pd.merge(d, events, how = \"left\")\n",
    "d = pd.merge(d, national, how = \"left\")\n",
    "# Regional\n",
    "d = pd.merge(d, regional, how = \"left\", on = [\"date\", \"state\"])\n",
    "# Local\n",
    "d = pd.merge(d, local, how = \"left\", on = [\"date\", \"city\"])\n",
    "\n",
    "\n",
    "# Work Day: It will be removed when real work day colum created\n",
    "d = pd.merge(d,  work_day[[\"date\", \"type\"]].rename({\"type\":\"IsWorkDay\"}, axis = 1),how = \"left\")\n",
    "\n",
    "\n",
    "\n",
    "# EVENTS\n",
    "events[\"events\"] =np.where(events.events.str.contains(\"futbol\"), \"Futbol\", events.events)\n",
    "\n",
    "def one_hot_encoder(df, nan_as_category=True):\n",
    "    original_columns = list(df.columns)\n",
    "    categorical_columns = df.select_dtypes([\"category\", \"object\"]).columns.tolist()\n",
    "    # categorical_columns = [col for col in df.columns if df[col].dtype == 'object']\n",
    "    df = pd.get_dummies(df, columns=categorical_columns, dummy_na=nan_as_category)\n",
    "    new_columns = [c for c in df.columns if c not in original_columns]\n",
    "    df.columns = df.columns.str.replace(\" \", \"_\")\n",
    "    return df, df.columns.tolist()\n",
    "\n",
    "events, events_cat = one_hot_encoder(events, nan_as_category=False)\n",
    "events[\"events_Dia_de_la_Madre\"] = np.where(events.date == \"2016-05-08\", 1,events[\"events_Dia_de_la_Madre\"])\n",
    "events = events.drop(239)\n",
    "\n",
    "d = pd.merge(d, events, how = \"left\")\n",
    "d[events_cat] = d[events_cat].fillna(0)\n",
    "\n",
    "\n",
    "\n",
    "# New features\n",
    "d[\"holiday_national_binary\"] = np.where(d.holiday_national.notnull(), 1, 0)\n",
    "d[\"holiday_local_binary\"] = np.where(d.holiday_local.notnull(), 1, 0)\n",
    "d[\"holiday_regional_binary\"] = np.where(d.holiday_regional.notnull(), 1, 0)\n",
    "\n",
    "# \n",
    "d[\"national_independence\"] = np.where(d.holiday_national.isin(['Batalla de Pichincha',  'Independencia de Cuenca', 'Independencia de Guayaquil', 'Independencia de Guayaquil', 'Primer Grito de Independencia']), 1, 0)\n",
    "d[\"local_cantonizacio\"] = np.where(d.holiday_local.str.contains(\"Cantonizacio\"), 1, 0)\n",
    "d[\"local_fundacion\"] = np.where(d.holiday_local.str.contains(\"Fundacion\"), 1, 0)\n",
    "d[\"local_independencia\"] = np.where(d.holiday_local.str.contains(\"Independencia\"), 1, 0)\n",
    "\n",
    "\n",
    "holidays, holidays_cat = one_hot_encoder(d[[\"holiday_national\",\"holiday_regional\",\"holiday_local\"]], nan_as_category=False)\n",
    "d = pd.concat([d.drop([\"holiday_national\",\"holiday_regional\",\"holiday_local\"], axis = 1),holidays], axis = 1)\n",
    "\n",
    "\n",
    "\n",
    "he_cols = d.columns[d.columns.str.startswith(\"events\")].tolist() + d.columns[d.columns.str.startswith(\"holiday\")].tolist() + d.columns[d.columns.str.startswith(\"national\")].tolist()+ d.columns[d.columns.str.startswith(\"local\")].tolist()\n",
    "d[he_cols] = d[he_cols].astype(\"int8\")\n",
    "\n",
    "d[[\"test/train\",\"family\", \"city\", \"state\", \"type\"]] = d[[\"test/train\",\"family\", \"city\", \"state\", \"type\"]].astype(\"category\")\n",
    "\n",
    "del holidays, holidays_cat, work_day, local, regional, national, events, events_cat, tr, tr1, tr2, he_cols\n",
    "gc.collect()"
   ]
  },
  {
   "cell_type": "code",
   "execution_count": 7,
   "metadata": {},
   "outputs": [],
   "source": [
    "# Inegrate Holidays data\n",
    "# Time Related Features\n",
    "def create_date_features(df):\n",
    "    df['month'] = df.date.dt.month.astype(\"int8\")\n",
    "    df['day_of_month'] = df.date.dt.day.astype(\"int8\")\n",
    "    df['day_of_year'] = df.date.dt.dayofyear.astype(\"int16\")\n",
    "    #df['week_of_month'] = (df.date.apply(lambda d: (d.day-1) // 7 + 1)).astype(\"int8\")\n",
    "    df['week_of_month'] = ((df['day_of_month']-1) // 7 + 1).astype(\"int8\")\n",
    "\n",
    "\n",
    "    df['week_of_year'] = (df.date.dt.weekofyear).astype(\"int8\")\n",
    "    df['day_of_week'] = (df.date.dt.dayofweek + 1).astype(\"int8\")\n",
    "    df['year'] = df.date.dt.year.astype(\"int32\")\n",
    "    df[\"is_wknd\"] = (df.date.dt.weekday // 4).astype(\"int8\")\n",
    "    df[\"quarter\"] = df.date.dt.quarter.astype(\"int8\")\n",
    "    df['is_month_start'] = df.date.dt.is_month_start.astype(\"int8\")\n",
    "    df['is_month_end'] = df.date.dt.is_month_end.astype(\"int8\")\n",
    "    df['is_quarter_start'] = df.date.dt.is_quarter_start.astype(\"int8\")\n",
    "    df['is_quarter_end'] = df.date.dt.is_quarter_end.astype(\"int8\")\n",
    "    df['is_year_start'] = df.date.dt.is_year_start.astype(\"int8\")\n",
    "    df['is_year_end'] = df.date.dt.is_year_end.astype(\"int8\")\n",
    "    # 0: Winter - 1: Spring - 2: Summer - 3: Fall\n",
    "    df[\"season\"] = np.where(df.month.isin([12,1,2]), 0, 1)\n",
    "    df[\"season\"] = np.where(df.month.isin([6,7,8]), 2, df[\"season\"])\n",
    "    df[\"season\"] = pd.Series(np.where(df.month.isin([9, 10, 11]), 3, df[\"season\"])).astype(\"int8\")\n",
    "    return df\n",
    "#d[\"date\"] = pd.to_datetime(d.date, errors='coerce')\n",
    "#d = d.dropna()\n",
    "#d = get_date_data()\n",
    "\n",
    "d = create_date_features(d)"
   ]
  },
  {
   "cell_type": "code",
   "execution_count": 8,
   "metadata": {},
   "outputs": [
    {
     "data": {
      "text/plain": [
       "(3029400, 79)"
      ]
     },
     "execution_count": 8,
     "metadata": {},
     "output_type": "execute_result"
    }
   ],
   "source": [
    "d[\"workday\"] = np.where((d.holiday_national_binary == 1) | (d.holiday_local_binary==1) | (d.holiday_regional_binary==1) | (d['day_of_week'].isin([6,7])), 0, 1)\n",
    "d[\"workday\"] = pd.Series(np.where(d.IsWorkDay.notnull(), 1, d[\"workday\"])).astype(\"int8\")\n",
    "d.drop(\"IsWorkDay\", axis = 1, inplace = True)\n",
    "\n",
    "# Wages in the public sector are paid every two weeks on the 15 th and on the last day of the month. \n",
    "# Supermarket sales could be affected by this.\n",
    "d[\"wageday\"] = pd.Series(np.where((d['is_month_end'] == 1) | (d[\"day_of_month\"] == 15), 1, 0)).astype(\"int8\")\n",
    "\n",
    "d.tail(15)\n",
    "d.shape"
   ]
  },
  {
   "cell_type": "code",
   "execution_count": 9,
   "metadata": {},
   "outputs": [
    {
     "data": {
      "text/plain": [
       "(302940, 79)"
      ]
     },
     "execution_count": 9,
     "metadata": {},
     "output_type": "execute_result"
    }
   ],
   "source": [
    "# Resample to reduce data for dev\n",
    "dFull = d\n",
    "d = dFull.sample(frac=0.1, replace=True, random_state=1)\n",
    "d.shape"
   ]
  },
  {
   "cell_type": "code",
   "execution_count": 10,
   "metadata": {},
   "outputs": [],
   "source": [
    "# preform test train split\n",
    "dataTrainTestHold = d.sort_values('date',ascending=False)\n",
    "\n",
    "cols = ['test/train' ,'sales', 'family', 'date', 'month','day_of_month', 'week_of_year','day_of_week']\n",
    "dataTrainTest = dataTrainTestHold[cols]\n"
   ]
  },
  {
   "cell_type": "code",
   "execution_count": 11,
   "metadata": {},
   "outputs": [],
   "source": [
    "dataTrain = dataTrainTest[dataTrainTest['test/train'] ==  'train'].reset_index(drop=True)\n",
    "dataTest = dataTrainTest[dataTrainTest['test/train'] ==  'test'].reset_index(drop=True)\n",
    "\n",
    "\n",
    "train_ = (dataTrain)\n",
    "test_ = (dataTest)\n",
    "\n",
    "\n",
    "\n",
    "#dataTrain.drop('family', axis=1, inplace=True)\n",
    "\n",
    "#train_, test_ = train_test_split(dataTrain.dropna().reset_index(drop=True), test_size=0.2, random_state=42)\n"
   ]
  },
  {
   "cell_type": "code",
   "execution_count": 12,
   "metadata": {},
   "outputs": [],
   "source": [
    "train_2 = train_.drop(['family','month','day_of_month','week_of_year','day_of_week','test/train'],axis = 1)\n",
    "test_2 = test_.drop(['family','month','day_of_month','week_of_year','day_of_week','test/train'],axis = 1)\n",
    "\n",
    "train_2=train_2.groupby(['date']).sum('sales')\n",
    "test_2=test_2.groupby(['date']).sum('sales')\n",
    "test_2= train_2.iloc[1347:,:]\n",
    "train_2= train_2.iloc[:1347,:]"
   ]
  },
  {
   "cell_type": "code",
   "execution_count": 12,
   "metadata": {},
   "outputs": [],
   "source": [
    "from holidays import CountryHoliday"
   ]
  },
  {
   "cell_type": "code",
   "execution_count": 4,
   "metadata": {},
   "outputs": [],
   "source": [
    "import pickle\n",
    "import pandas as pd"
   ]
  },
  {
   "cell_type": "code",
   "execution_count": 9,
   "metadata": {},
   "outputs": [],
   "source": [
    "\n",
    "results = pd.read_csv(r'C:\\Users\\ylumady\\Downloads\\prophet_results.csv')"
   ]
  },
  {
   "cell_type": "code",
   "execution_count": 12,
   "metadata": {},
   "outputs": [
    {
     "data": {
      "text/html": [
       "<div>\n",
       "<style scoped>\n",
       "    .dataframe tbody tr th:only-of-type {\n",
       "        vertical-align: middle;\n",
       "    }\n",
       "\n",
       "    .dataframe tbody tr th {\n",
       "        vertical-align: top;\n",
       "    }\n",
       "\n",
       "    .dataframe thead th {\n",
       "        text-align: right;\n",
       "    }\n",
       "</style>\n",
       "<table border=\"1\" class=\"dataframe\">\n",
       "  <thead>\n",
       "    <tr style=\"text-align: right;\">\n",
       "      <th></th>\n",
       "      <th>date</th>\n",
       "      <th>sales</th>\n",
       "      <th>pred</th>\n",
       "      <th>pred_lower</th>\n",
       "      <th>pred_upper</th>\n",
       "    </tr>\n",
       "  </thead>\n",
       "  <tbody>\n",
       "    <tr>\n",
       "      <th>0</th>\n",
       "      <td>2017-07-18</td>\n",
       "      <td>75325.984</td>\n",
       "      <td>78913.098206</td>\n",
       "      <td>43454.440437</td>\n",
       "      <td>113936.715141</td>\n",
       "    </tr>\n",
       "    <tr>\n",
       "      <th>1</th>\n",
       "      <td>2017-07-19</td>\n",
       "      <td>85009.766</td>\n",
       "      <td>82987.661220</td>\n",
       "      <td>46813.659036</td>\n",
       "      <td>119822.274886</td>\n",
       "    </tr>\n",
       "    <tr>\n",
       "      <th>2</th>\n",
       "      <td>2017-07-20</td>\n",
       "      <td>77723.880</td>\n",
       "      <td>73680.032028</td>\n",
       "      <td>39869.494925</td>\n",
       "      <td>111119.132691</td>\n",
       "    </tr>\n",
       "    <tr>\n",
       "      <th>3</th>\n",
       "      <td>2017-07-21</td>\n",
       "      <td>54106.387</td>\n",
       "      <td>83180.866493</td>\n",
       "      <td>46242.378952</td>\n",
       "      <td>118749.532069</td>\n",
       "    </tr>\n",
       "    <tr>\n",
       "      <th>4</th>\n",
       "      <td>2017-07-22</td>\n",
       "      <td>140176.580</td>\n",
       "      <td>100048.413275</td>\n",
       "      <td>64598.130798</td>\n",
       "      <td>135859.779938</td>\n",
       "    </tr>\n",
       "  </tbody>\n",
       "</table>\n",
       "</div>"
      ],
      "text/plain": [
       "         date       sales           pred    pred_lower     pred_upper\n",
       "0  2017-07-18   75325.984   78913.098206  43454.440437  113936.715141\n",
       "1  2017-07-19   85009.766   82987.661220  46813.659036  119822.274886\n",
       "2  2017-07-20   77723.880   73680.032028  39869.494925  111119.132691\n",
       "3  2017-07-21   54106.387   83180.866493  46242.378952  118749.532069\n",
       "4  2017-07-22  140176.580  100048.413275  64598.130798  135859.779938"
      ]
     },
     "execution_count": 12,
     "metadata": {},
     "output_type": "execute_result"
    }
   ],
   "source": [
    "results.head()"
   ]
  },
  {
   "cell_type": "code",
   "execution_count": 10,
   "metadata": {},
   "outputs": [],
   "source": [
    "import plotly.graph_objects as go\n",
    "import numpy as np"
   ]
  },
  {
   "cell_type": "code",
   "execution_count": 14,
   "metadata": {},
   "outputs": [
    {
     "data": {
      "application/vnd.plotly.v1+json": {
       "config": {
        "plotlyServerURL": "https://plot.ly"
       },
       "data": [
        {
         "mode": "lines",
         "name": "Line",
         "type": "scatter",
         "x": [
          "2017-07-18",
          "2017-07-19",
          "2017-07-20",
          "2017-07-21",
          "2017-07-22",
          "2017-07-23",
          "2017-07-24",
          "2017-07-25",
          "2017-07-26",
          "2017-07-27",
          "2017-07-28",
          "2017-07-29",
          "2017-07-30",
          "2017-07-31",
          "2017-08-01",
          "2017-08-02",
          "2017-08-03",
          "2017-08-04",
          "2017-08-05",
          "2017-08-06",
          "2017-08-07",
          "2017-08-08",
          "2017-08-09",
          "2017-08-10",
          "2017-08-11",
          "2017-08-12",
          "2017-08-13",
          "2017-08-14",
          "2017-08-15"
         ],
         "y": [
          78913.09820554462,
          82987.66122033837,
          73680.0320278687,
          83180.86649269493,
          100048.41327470996,
          106346.60253862847,
          85382.12386071129,
          78733.92390988457,
          82330.9963443127,
          72536.76874200956,
          81553.92840485864,
          97952.98284111488,
          103810.01800292272,
          82443.44386654384,
          75443.16740430705,
          78748.07474212583,
          68730.13628572584,
          77598.98496114263,
          93930.27077586124,
          99803.26104644946,
          78537.4808282317,
          71721.8370603334,
          75292.11009263742,
          65615.12658607207,
          74893.46245748714,
          91693.97594747382,
          98085.6354530526,
          77376.43050539111,
          71142.80196705044
         ]
        },
        {
         "mode": "lines",
         "name": "Line",
         "type": "scatter",
         "x": [
          "2017-07-18",
          "2017-07-19",
          "2017-07-20",
          "2017-07-21",
          "2017-07-22",
          "2017-07-23",
          "2017-07-24",
          "2017-07-25",
          "2017-07-26",
          "2017-07-27",
          "2017-07-28",
          "2017-07-29",
          "2017-07-30",
          "2017-07-31",
          "2017-08-01",
          "2017-08-02",
          "2017-08-03",
          "2017-08-04",
          "2017-08-05",
          "2017-08-06",
          "2017-08-07",
          "2017-08-08",
          "2017-08-09",
          "2017-08-10",
          "2017-08-11",
          "2017-08-12",
          "2017-08-13",
          "2017-08-14",
          "2017-08-15"
         ],
         "y": [
          75325.984,
          85009.766,
          77723.88,
          54106.387,
          140176.58,
          84151.93,
          87962.58,
          53066.55,
          62588.863,
          53982.492,
          74809.484,
          133184.23,
          83055.31,
          81478.336,
          113853.81,
          75526.88,
          64897.418,
          77502.164,
          72317.33,
          116107.03,
          74769.91,
          69646.125,
          96619.09,
          40064.04,
          72954.875,
          104377.29,
          103013.53,
          73491.47,
          83923.8
         ]
        },
        {
         "line": {
          "color": "rgba(0,0,0,0)"
         },
         "mode": "lines",
         "showlegend": false,
         "type": "scatter",
         "x": [
          "2017-07-18",
          "2017-07-19",
          "2017-07-20",
          "2017-07-21",
          "2017-07-22",
          "2017-07-23",
          "2017-07-24",
          "2017-07-25",
          "2017-07-26",
          "2017-07-27",
          "2017-07-28",
          "2017-07-29",
          "2017-07-30",
          "2017-07-31",
          "2017-08-01",
          "2017-08-02",
          "2017-08-03",
          "2017-08-04",
          "2017-08-05",
          "2017-08-06",
          "2017-08-07",
          "2017-08-08",
          "2017-08-09",
          "2017-08-10",
          "2017-08-11",
          "2017-08-12",
          "2017-08-13",
          "2017-08-14",
          "2017-08-15"
         ],
         "y": [
          113936.71514145946,
          119822.27488641812,
          111119.13269053596,
          118749.5320690752,
          135859.77993812598,
          142763.8201358594,
          122956.07814877597,
          117400.6283351472,
          117152.96431853632,
          108571.15538764864,
          119017.89255985954,
          131985.22926991724,
          140721.50579388224,
          119553.97430509706,
          111078.32813813712,
          116614.71128027336,
          107821.489946804,
          113933.56634041845,
          130325.82861234424,
          134548.73821291077,
          117494.410949021,
          109088.93844717246,
          114754.1378645018,
          100848.1431761898,
          110099.50933782168,
          129129.8132901512,
          133149.74756147555,
          112512.02692830244,
          109015.52509836832
         ]
        },
        {
         "fill": "tonexty",
         "fillcolor": "rgba(0,176,246,0.2)",
         "line": {
          "color": "rgba(0,176,246,0)"
         },
         "mode": "lines",
         "name": "95% Confidence Intervals",
         "type": "scatter",
         "x": [
          "2017-07-18",
          "2017-07-19",
          "2017-07-20",
          "2017-07-21",
          "2017-07-22",
          "2017-07-23",
          "2017-07-24",
          "2017-07-25",
          "2017-07-26",
          "2017-07-27",
          "2017-07-28",
          "2017-07-29",
          "2017-07-30",
          "2017-07-31",
          "2017-08-01",
          "2017-08-02",
          "2017-08-03",
          "2017-08-04",
          "2017-08-05",
          "2017-08-06",
          "2017-08-07",
          "2017-08-08",
          "2017-08-09",
          "2017-08-10",
          "2017-08-11",
          "2017-08-12",
          "2017-08-13",
          "2017-08-14",
          "2017-08-15"
         ],
         "y": [
          43454.44043667749,
          46813.65903601401,
          39869.49492512634,
          46242.37895207077,
          64598.13079807705,
          69599.27899446303,
          43640.31469623885,
          41497.51312482719,
          45014.51058830253,
          35392.27349447949,
          46720.00051764685,
          63190.77158578508,
          67142.46520118315,
          45689.724611133686,
          40785.06391924839,
          41793.98423131821,
          35041.38297452224,
          43061.55360689917,
          59014.42774520319,
          66826.5327984009,
          44665.94432822981,
          33412.12110524575,
          38572.69517391648,
          30111.134011954426,
          39658.30424384338,
          53936.38219473309,
          61043.85103336786,
          41390.73955195958,
          34247.91160216427
         ]
        }
       ],
       "layout": {
        "template": {
         "data": {
          "bar": [
           {
            "error_x": {
             "color": "#2a3f5f"
            },
            "error_y": {
             "color": "#2a3f5f"
            },
            "marker": {
             "line": {
              "color": "#E5ECF6",
              "width": 0.5
             },
             "pattern": {
              "fillmode": "overlay",
              "size": 10,
              "solidity": 0.2
             }
            },
            "type": "bar"
           }
          ],
          "barpolar": [
           {
            "marker": {
             "line": {
              "color": "#E5ECF6",
              "width": 0.5
             },
             "pattern": {
              "fillmode": "overlay",
              "size": 10,
              "solidity": 0.2
             }
            },
            "type": "barpolar"
           }
          ],
          "carpet": [
           {
            "aaxis": {
             "endlinecolor": "#2a3f5f",
             "gridcolor": "white",
             "linecolor": "white",
             "minorgridcolor": "white",
             "startlinecolor": "#2a3f5f"
            },
            "baxis": {
             "endlinecolor": "#2a3f5f",
             "gridcolor": "white",
             "linecolor": "white",
             "minorgridcolor": "white",
             "startlinecolor": "#2a3f5f"
            },
            "type": "carpet"
           }
          ],
          "choropleth": [
           {
            "colorbar": {
             "outlinewidth": 0,
             "ticks": ""
            },
            "type": "choropleth"
           }
          ],
          "contour": [
           {
            "colorbar": {
             "outlinewidth": 0,
             "ticks": ""
            },
            "colorscale": [
             [
              0,
              "#0d0887"
             ],
             [
              0.1111111111111111,
              "#46039f"
             ],
             [
              0.2222222222222222,
              "#7201a8"
             ],
             [
              0.3333333333333333,
              "#9c179e"
             ],
             [
              0.4444444444444444,
              "#bd3786"
             ],
             [
              0.5555555555555556,
              "#d8576b"
             ],
             [
              0.6666666666666666,
              "#ed7953"
             ],
             [
              0.7777777777777778,
              "#fb9f3a"
             ],
             [
              0.8888888888888888,
              "#fdca26"
             ],
             [
              1,
              "#f0f921"
             ]
            ],
            "type": "contour"
           }
          ],
          "contourcarpet": [
           {
            "colorbar": {
             "outlinewidth": 0,
             "ticks": ""
            },
            "type": "contourcarpet"
           }
          ],
          "heatmap": [
           {
            "colorbar": {
             "outlinewidth": 0,
             "ticks": ""
            },
            "colorscale": [
             [
              0,
              "#0d0887"
             ],
             [
              0.1111111111111111,
              "#46039f"
             ],
             [
              0.2222222222222222,
              "#7201a8"
             ],
             [
              0.3333333333333333,
              "#9c179e"
             ],
             [
              0.4444444444444444,
              "#bd3786"
             ],
             [
              0.5555555555555556,
              "#d8576b"
             ],
             [
              0.6666666666666666,
              "#ed7953"
             ],
             [
              0.7777777777777778,
              "#fb9f3a"
             ],
             [
              0.8888888888888888,
              "#fdca26"
             ],
             [
              1,
              "#f0f921"
             ]
            ],
            "type": "heatmap"
           }
          ],
          "heatmapgl": [
           {
            "colorbar": {
             "outlinewidth": 0,
             "ticks": ""
            },
            "colorscale": [
             [
              0,
              "#0d0887"
             ],
             [
              0.1111111111111111,
              "#46039f"
             ],
             [
              0.2222222222222222,
              "#7201a8"
             ],
             [
              0.3333333333333333,
              "#9c179e"
             ],
             [
              0.4444444444444444,
              "#bd3786"
             ],
             [
              0.5555555555555556,
              "#d8576b"
             ],
             [
              0.6666666666666666,
              "#ed7953"
             ],
             [
              0.7777777777777778,
              "#fb9f3a"
             ],
             [
              0.8888888888888888,
              "#fdca26"
             ],
             [
              1,
              "#f0f921"
             ]
            ],
            "type": "heatmapgl"
           }
          ],
          "histogram": [
           {
            "marker": {
             "pattern": {
              "fillmode": "overlay",
              "size": 10,
              "solidity": 0.2
             }
            },
            "type": "histogram"
           }
          ],
          "histogram2d": [
           {
            "colorbar": {
             "outlinewidth": 0,
             "ticks": ""
            },
            "colorscale": [
             [
              0,
              "#0d0887"
             ],
             [
              0.1111111111111111,
              "#46039f"
             ],
             [
              0.2222222222222222,
              "#7201a8"
             ],
             [
              0.3333333333333333,
              "#9c179e"
             ],
             [
              0.4444444444444444,
              "#bd3786"
             ],
             [
              0.5555555555555556,
              "#d8576b"
             ],
             [
              0.6666666666666666,
              "#ed7953"
             ],
             [
              0.7777777777777778,
              "#fb9f3a"
             ],
             [
              0.8888888888888888,
              "#fdca26"
             ],
             [
              1,
              "#f0f921"
             ]
            ],
            "type": "histogram2d"
           }
          ],
          "histogram2dcontour": [
           {
            "colorbar": {
             "outlinewidth": 0,
             "ticks": ""
            },
            "colorscale": [
             [
              0,
              "#0d0887"
             ],
             [
              0.1111111111111111,
              "#46039f"
             ],
             [
              0.2222222222222222,
              "#7201a8"
             ],
             [
              0.3333333333333333,
              "#9c179e"
             ],
             [
              0.4444444444444444,
              "#bd3786"
             ],
             [
              0.5555555555555556,
              "#d8576b"
             ],
             [
              0.6666666666666666,
              "#ed7953"
             ],
             [
              0.7777777777777778,
              "#fb9f3a"
             ],
             [
              0.8888888888888888,
              "#fdca26"
             ],
             [
              1,
              "#f0f921"
             ]
            ],
            "type": "histogram2dcontour"
           }
          ],
          "mesh3d": [
           {
            "colorbar": {
             "outlinewidth": 0,
             "ticks": ""
            },
            "type": "mesh3d"
           }
          ],
          "parcoords": [
           {
            "line": {
             "colorbar": {
              "outlinewidth": 0,
              "ticks": ""
             }
            },
            "type": "parcoords"
           }
          ],
          "pie": [
           {
            "automargin": true,
            "type": "pie"
           }
          ],
          "scatter": [
           {
            "fillpattern": {
             "fillmode": "overlay",
             "size": 10,
             "solidity": 0.2
            },
            "type": "scatter"
           }
          ],
          "scatter3d": [
           {
            "line": {
             "colorbar": {
              "outlinewidth": 0,
              "ticks": ""
             }
            },
            "marker": {
             "colorbar": {
              "outlinewidth": 0,
              "ticks": ""
             }
            },
            "type": "scatter3d"
           }
          ],
          "scattercarpet": [
           {
            "marker": {
             "colorbar": {
              "outlinewidth": 0,
              "ticks": ""
             }
            },
            "type": "scattercarpet"
           }
          ],
          "scattergeo": [
           {
            "marker": {
             "colorbar": {
              "outlinewidth": 0,
              "ticks": ""
             }
            },
            "type": "scattergeo"
           }
          ],
          "scattergl": [
           {
            "marker": {
             "colorbar": {
              "outlinewidth": 0,
              "ticks": ""
             }
            },
            "type": "scattergl"
           }
          ],
          "scattermapbox": [
           {
            "marker": {
             "colorbar": {
              "outlinewidth": 0,
              "ticks": ""
             }
            },
            "type": "scattermapbox"
           }
          ],
          "scatterpolar": [
           {
            "marker": {
             "colorbar": {
              "outlinewidth": 0,
              "ticks": ""
             }
            },
            "type": "scatterpolar"
           }
          ],
          "scatterpolargl": [
           {
            "marker": {
             "colorbar": {
              "outlinewidth": 0,
              "ticks": ""
             }
            },
            "type": "scatterpolargl"
           }
          ],
          "scatterternary": [
           {
            "marker": {
             "colorbar": {
              "outlinewidth": 0,
              "ticks": ""
             }
            },
            "type": "scatterternary"
           }
          ],
          "surface": [
           {
            "colorbar": {
             "outlinewidth": 0,
             "ticks": ""
            },
            "colorscale": [
             [
              0,
              "#0d0887"
             ],
             [
              0.1111111111111111,
              "#46039f"
             ],
             [
              0.2222222222222222,
              "#7201a8"
             ],
             [
              0.3333333333333333,
              "#9c179e"
             ],
             [
              0.4444444444444444,
              "#bd3786"
             ],
             [
              0.5555555555555556,
              "#d8576b"
             ],
             [
              0.6666666666666666,
              "#ed7953"
             ],
             [
              0.7777777777777778,
              "#fb9f3a"
             ],
             [
              0.8888888888888888,
              "#fdca26"
             ],
             [
              1,
              "#f0f921"
             ]
            ],
            "type": "surface"
           }
          ],
          "table": [
           {
            "cells": {
             "fill": {
              "color": "#EBF0F8"
             },
             "line": {
              "color": "white"
             }
            },
            "header": {
             "fill": {
              "color": "#C8D4E3"
             },
             "line": {
              "color": "white"
             }
            },
            "type": "table"
           }
          ]
         },
         "layout": {
          "annotationdefaults": {
           "arrowcolor": "#2a3f5f",
           "arrowhead": 0,
           "arrowwidth": 1
          },
          "autotypenumbers": "strict",
          "coloraxis": {
           "colorbar": {
            "outlinewidth": 0,
            "ticks": ""
           }
          },
          "colorscale": {
           "diverging": [
            [
             0,
             "#8e0152"
            ],
            [
             0.1,
             "#c51b7d"
            ],
            [
             0.2,
             "#de77ae"
            ],
            [
             0.3,
             "#f1b6da"
            ],
            [
             0.4,
             "#fde0ef"
            ],
            [
             0.5,
             "#f7f7f7"
            ],
            [
             0.6,
             "#e6f5d0"
            ],
            [
             0.7,
             "#b8e186"
            ],
            [
             0.8,
             "#7fbc41"
            ],
            [
             0.9,
             "#4d9221"
            ],
            [
             1,
             "#276419"
            ]
           ],
           "sequential": [
            [
             0,
             "#0d0887"
            ],
            [
             0.1111111111111111,
             "#46039f"
            ],
            [
             0.2222222222222222,
             "#7201a8"
            ],
            [
             0.3333333333333333,
             "#9c179e"
            ],
            [
             0.4444444444444444,
             "#bd3786"
            ],
            [
             0.5555555555555556,
             "#d8576b"
            ],
            [
             0.6666666666666666,
             "#ed7953"
            ],
            [
             0.7777777777777778,
             "#fb9f3a"
            ],
            [
             0.8888888888888888,
             "#fdca26"
            ],
            [
             1,
             "#f0f921"
            ]
           ],
           "sequentialminus": [
            [
             0,
             "#0d0887"
            ],
            [
             0.1111111111111111,
             "#46039f"
            ],
            [
             0.2222222222222222,
             "#7201a8"
            ],
            [
             0.3333333333333333,
             "#9c179e"
            ],
            [
             0.4444444444444444,
             "#bd3786"
            ],
            [
             0.5555555555555556,
             "#d8576b"
            ],
            [
             0.6666666666666666,
             "#ed7953"
            ],
            [
             0.7777777777777778,
             "#fb9f3a"
            ],
            [
             0.8888888888888888,
             "#fdca26"
            ],
            [
             1,
             "#f0f921"
            ]
           ]
          },
          "colorway": [
           "#636efa",
           "#EF553B",
           "#00cc96",
           "#ab63fa",
           "#FFA15A",
           "#19d3f3",
           "#FF6692",
           "#B6E880",
           "#FF97FF",
           "#FECB52"
          ],
          "font": {
           "color": "#2a3f5f"
          },
          "geo": {
           "bgcolor": "white",
           "lakecolor": "white",
           "landcolor": "#E5ECF6",
           "showlakes": true,
           "showland": true,
           "subunitcolor": "white"
          },
          "hoverlabel": {
           "align": "left"
          },
          "hovermode": "closest",
          "mapbox": {
           "style": "light"
          },
          "paper_bgcolor": "white",
          "plot_bgcolor": "#E5ECF6",
          "polar": {
           "angularaxis": {
            "gridcolor": "white",
            "linecolor": "white",
            "ticks": ""
           },
           "bgcolor": "#E5ECF6",
           "radialaxis": {
            "gridcolor": "white",
            "linecolor": "white",
            "ticks": ""
           }
          },
          "scene": {
           "xaxis": {
            "backgroundcolor": "#E5ECF6",
            "gridcolor": "white",
            "gridwidth": 2,
            "linecolor": "white",
            "showbackground": true,
            "ticks": "",
            "zerolinecolor": "white"
           },
           "yaxis": {
            "backgroundcolor": "#E5ECF6",
            "gridcolor": "white",
            "gridwidth": 2,
            "linecolor": "white",
            "showbackground": true,
            "ticks": "",
            "zerolinecolor": "white"
           },
           "zaxis": {
            "backgroundcolor": "#E5ECF6",
            "gridcolor": "white",
            "gridwidth": 2,
            "linecolor": "white",
            "showbackground": true,
            "ticks": "",
            "zerolinecolor": "white"
           }
          },
          "shapedefaults": {
           "line": {
            "color": "#2a3f5f"
           }
          },
          "ternary": {
           "aaxis": {
            "gridcolor": "white",
            "linecolor": "white",
            "ticks": ""
           },
           "baxis": {
            "gridcolor": "white",
            "linecolor": "white",
            "ticks": ""
           },
           "bgcolor": "#E5ECF6",
           "caxis": {
            "gridcolor": "white",
            "linecolor": "white",
            "ticks": ""
           }
          },
          "title": {
           "x": 0.05
          },
          "xaxis": {
           "automargin": true,
           "gridcolor": "white",
           "linecolor": "white",
           "ticks": "",
           "title": {
            "standoff": 15
           },
           "zerolinecolor": "white",
           "zerolinewidth": 2
          },
          "yaxis": {
           "automargin": true,
           "gridcolor": "white",
           "linecolor": "white",
           "ticks": "",
           "title": {
            "standoff": 15
           },
           "zerolinecolor": "white",
           "zerolinewidth": 2
          }
         }
        },
        "title": {
         "text": "Prophet Results with 95% Confidence Intervals"
        },
        "xaxis": {
         "title": {
          "text": "X-axis"
         }
        },
        "yaxis": {
         "title": {
          "text": "Y-axis"
         }
        }
       }
      }
     },
     "metadata": {},
     "output_type": "display_data"
    }
   ],
   "source": [
    "fig = go.Figure()\n",
    "\n",
    "# Plot the line\n",
    "fig.add_trace(go.Scatter(x=results.date, y=results.pred, mode='lines', name='Line'))\n",
    "\n",
    "fig.add_trace(go.Scatter(x=results.date, y=results.sales, mode='lines', name='Line'))\n",
    "\n",
    "\n",
    "# Plot the upper confidence interval\n",
    "fig.add_trace(go.Scatter(x=results.date, y=results.pred_upper, mode='lines', line=dict(color='rgba(0,0,0,0)'), showlegend=False))\n",
    "\n",
    "# Plot the lower confidence interval\n",
    "fig.add_trace(go.Scatter(x=results.date, y=results.pred_lower, mode='lines', fill='tonexty', fillcolor='rgba(0,176,246,0.2)',\n",
    "                         line=dict(color='rgba(0,176,246,0)'), name='95% Confidence Intervals'))\n",
    "\n",
    "# Update the layout\n",
    "fig.update_layout(title='Prophet Results with 95% Confidence Intervals',\n",
    "                  xaxis_title='X-axis',\n",
    "                  yaxis_title='Y-axis')\n",
    "\n",
    "# Show the plot\n",
    "fig.show()"
   ]
  },
  {
   "cell_type": "code",
   "execution_count": 21,
   "metadata": {},
   "outputs": [],
   "source": [
    "from sklearn.metrics import mean_absolute_error, mean_squared_error, mean_squared_log_error, r2_score\n",
    "def calc_root_mean_squared_log_error(y_true, y_pred):\n",
    "    \"\"\"Calculate the root mean squared log error for the predicted values\n",
    "\n",
    "    Args:\n",
    "        y_true (list): ground truth values\n",
    "        y_pred (list): predicted values\n",
    "\n",
    "    Returns:\n",
    "        float: rmsle score for the predictions\n",
    "    \"\"\"\n",
    "    return np.sqrt(mean_squared_log_error(y_true, y_pred))\n",
    "\n",
    "def calc_root_mean_squared_error(y_true, y_pred):\n",
    "    \"\"\"Calculate the root mean squared error for the predicted values\n",
    "\n",
    "    Args:\n",
    "        y_true (list): ground truth values\n",
    "        y_pred (list): predicted values\n",
    "\n",
    "    Returns:\n",
    "        float: rmse score for the predictions\n",
    "    \"\"\"\n",
    "    return np.sqrt(mean_squared_error(y_true, y_pred))\n"
   ]
  },
  {
   "cell_type": "code",
   "execution_count": 23,
   "metadata": {},
   "outputs": [
    {
     "name": "stdout",
     "output_type": "stream",
     "text": [
      "18407.60027008649\n"
     ]
    }
   ],
   "source": [
    "print(calc_root_mean_squared_error(results.sales,results.pred))"
   ]
  },
  {
   "cell_type": "code",
   "execution_count": null,
   "metadata": {},
   "outputs": [],
   "source": []
  },
  {
   "cell_type": "code",
   "execution_count": null,
   "metadata": {},
   "outputs": [],
   "source": []
  }
 ],
 "metadata": {
  "kernelspec": {
   "display_name": "base",
   "language": "python",
   "name": "python3"
  },
  "language_info": {
   "codemirror_mode": {
    "name": "ipython",
    "version": 3
   },
   "file_extension": ".py",
   "mimetype": "text/x-python",
   "name": "python",
   "nbconvert_exporter": "python",
   "pygments_lexer": "ipython3",
   "version": "3.8.8"
  },
  "orig_nbformat": 4
 },
 "nbformat": 4,
 "nbformat_minor": 2
}
